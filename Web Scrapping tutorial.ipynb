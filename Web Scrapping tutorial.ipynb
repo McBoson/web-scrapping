{
 "cells": [
  {
   "cell_type": "markdown",
   "id": "a9362fb9",
   "metadata": {},
   "source": [
    "*Web scraping* is the process of extracting data from websites. It involves fetching the content of web pages and parsing it to extract useful information, such as text, images, or specific elements like product prices, news headlines, or user reviews.\n",
    "\n",
    "### Common Uses of Web Scraping\n",
    "- Collecting product prices and reviews from e-commerce websites.\n",
    "- Aggregating news from various news portals.\n",
    "- Extracting data for market research or competitive analysis.\n",
    "- Building datasets for machine learning or research.\n",
    "\n",
    "### The Web Scraping Process\n",
    "1. *Identify the Website and Data*: Start by deciding what website you want to scrape and which specific data you need. For example, scraping the price and rating of products from an e-commerce site.\n",
    "\n",
    "2. *Inspect the Web Page*: Use the browser's developer tools (right-click > Inspect) to analyze the HTML structure of the web page and identify the tags, classes, and attributes where the target data is located.\n",
    "\n",
    "3. *Choose the Tools/Libraries*: Common Python libraries for web scraping include:\n",
    "   - *Requests*: For sending HTTP requests to get the raw HTML content.\n",
    "   - *BeautifulSoup*: For parsing HTML and XML documents, allowing easy navigation and extraction of elements.\n",
    "   - *Selenium*: For scraping dynamic content rendered by JavaScript, as it can simulate user interactions like clicking buttons and filling out forms.\n",
    "   - *Scrapy*: A more advanced and powerful web scraping framework used for large-scale scraping.\n",
    "\n",
    "4. *Send a Request to the Web Page*: Use the requests library to send an HTTP request and retrieve the HTML content of the page.\n",
    "\n",
    "5. *Parse the HTML Content*: Use BeautifulSoup to parse the HTML and locate the elements containing the desired data based on tags, classes, or IDs.\n",
    "\n",
    "6. *Extract and Process the Data*: Navigate through the parsed HTML to extract and store the data in a structured format (e.g., CSV, JSON, or database).\n",
    "\n",
    "7. *Handle Dynamic Content (Optional)*: If the website uses JavaScript to load content dynamically, you might need to use Selenium or the requests-html library to wait for the page to load fully and interact with elements.\n",
    "\n",
    "8. *Store the Data*: Save the extracted data in a file or database for further analysis.\n",
    "\n",
    "### Example: Basic Web Scraping with Python\n",
    "\n",
    "Here’s a simple example of scraping product titles from an e-commerce website using Python with requests and BeautifulSoup:\n",
    "\n",
    "python\n",
    "import requests\n",
    "from bs4 import BeautifulSoup\n",
    "\n",
    "# Step 1: Send a request to the web page\n",
    "url = \"https://example.com/products\"\n",
    "response = requests.get(url)\n",
    "\n",
    "# Step 2: Parse the HTML content using BeautifulSoup\n",
    "soup = BeautifulSoup(response.content, \"html.parser\")\n",
    "\n",
    "# Step 3: Find and extract the relevant data\n",
    "product_titles = soup.find_all(\"h2\", class_=\"product-title\")\n",
    "\n",
    "# Step 4: Print the extracted product titles\n",
    "for title in product_titles:\n",
    "    print(title.get_text())\n",
    "\n",
    "\n",
    "### Handling Ethical Issues and Legal Considerations\n",
    "- *Respect Robots.txt*: Always check the website’s robots.txt file, which specifies which parts of the site can be crawled or scraped.\n",
    "- *Avoid Overloading Servers*: Implement delays between requests to avoid overwhelming the server (e.g., using time.sleep()).\n",
    "- *Terms of Service*: Be mindful of the website’s terms and conditions, as some websites explicitly forbid scraping.\n",
    "\n",
    "### Advanced Considerations\n",
    "- *Pagination*: If the data spans multiple pages, your scraper should handle pagination by following the “next” links.\n",
    "- *Authentication*: Some websites require you to log in or pass through CAPTCHA challenges. Selenium can help bypass these.\n",
    "\n",
    "### Summary\n",
    "Web scraping is a powerful technique for extracting information from websites. The process involves sending an HTTP request, parsing HTML, and extracting specific data. Python provides several libraries like requests, BeautifulSoup, and Selenium to perform these tasks effectively."
   ]
  },
  {
   "cell_type": "code",
   "execution_count": 1,
   "id": "fdd66a19",
   "metadata": {},
   "outputs": [
    {
     "name": "stdout",
     "output_type": "stream",
     "text": [
      "Requirement already satisfied: requests in c:\\users\\blessedrei\\anaconda3\\lib\\site-packages (2.28.1)\n",
      "Requirement already satisfied: charset-normalizer<3,>=2 in c:\\users\\blessedrei\\anaconda3\\lib\\site-packages (from requests) (2.0.4)\n",
      "Requirement already satisfied: idna<4,>=2.5 in c:\\users\\blessedrei\\anaconda3\\lib\\site-packages (from requests) (3.3)\n",
      "Requirement already satisfied: urllib3<1.27,>=1.21.1 in c:\\users\\blessedrei\\anaconda3\\lib\\site-packages (from requests) (1.26.11)\n",
      "Requirement already satisfied: certifi>=2017.4.17 in c:\\users\\blessedrei\\anaconda3\\lib\\site-packages (from requests) (2022.9.14)\n",
      "Note: you may need to restart the kernel to use updated packages.\n"
     ]
    }
   ],
   "source": [
    "pip install requests"
   ]
  },
  {
   "cell_type": "code",
   "execution_count": 2,
   "id": "0379358a",
   "metadata": {},
   "outputs": [
    {
     "name": "stdout",
     "output_type": "stream",
     "text": [
      "Collecting selenium\n",
      "  Downloading selenium-4.24.0-py3-none-any.whl (9.6 MB)\n",
      "     ---------------------------------------- 9.6/9.6 MB 368.7 kB/s eta 0:00:00\n",
      "Collecting typing_extensions~=4.9\n",
      "  Downloading typing_extensions-4.12.2-py3-none-any.whl (37 kB)\n",
      "Requirement already satisfied: certifi>=2021.10.8 in c:\\users\\blessedrei\\anaconda3\\lib\\site-packages (from selenium) (2022.9.14)\n",
      "Collecting trio-websocket~=0.9\n",
      "  Downloading trio_websocket-0.11.1-py3-none-any.whl (17 kB)\n",
      "Collecting trio~=0.17\n",
      "  Downloading trio-0.26.2-py3-none-any.whl (475 kB)\n",
      "     ------------------------------------ 476.0/476.0 kB 426.1 kB/s eta 0:00:00\n",
      "Requirement already satisfied: urllib3[socks]<3,>=1.26 in c:\\users\\blessedrei\\anaconda3\\lib\\site-packages (from selenium) (1.26.11)\n",
      "Collecting websocket-client~=1.8\n",
      "  Downloading websocket_client-1.8.0-py3-none-any.whl (58 kB)\n",
      "     -------------------------------------- 58.8/58.8 kB 445.7 kB/s eta 0:00:00\n",
      "Requirement already satisfied: idna in c:\\users\\blessedrei\\anaconda3\\lib\\site-packages (from trio~=0.17->selenium) (3.3)\n",
      "Requirement already satisfied: sortedcontainers in c:\\users\\blessedrei\\anaconda3\\lib\\site-packages (from trio~=0.17->selenium) (2.4.0)\n",
      "Collecting sniffio>=1.3.0\n",
      "  Downloading sniffio-1.3.1-py3-none-any.whl (10 kB)\n",
      "Collecting outcome\n",
      "  Downloading outcome-1.3.0.post0-py2.py3-none-any.whl (10 kB)\n",
      "Collecting exceptiongroup\n",
      "  Downloading exceptiongroup-1.2.2-py3-none-any.whl (16 kB)\n",
      "Collecting attrs>=23.2.0\n",
      "  Downloading attrs-24.2.0-py3-none-any.whl (63 kB)\n",
      "     -------------------------------------- 63.0/63.0 kB 338.2 kB/s eta 0:00:00\n",
      "Requirement already satisfied: cffi>=1.14 in c:\\users\\blessedrei\\anaconda3\\lib\\site-packages (from trio~=0.17->selenium) (1.15.1)\n",
      "Collecting wsproto>=0.14\n",
      "  Downloading wsproto-1.2.0-py3-none-any.whl (24 kB)\n",
      "Requirement already satisfied: PySocks!=1.5.7,<2.0,>=1.5.6 in c:\\users\\blessedrei\\anaconda3\\lib\\site-packages (from urllib3[socks]<3,>=1.26->selenium) (1.7.1)\n",
      "Requirement already satisfied: pycparser in c:\\users\\blessedrei\\anaconda3\\lib\\site-packages (from cffi>=1.14->trio~=0.17->selenium) (2.21)\n",
      "Collecting h11<1,>=0.9.0\n",
      "  Downloading h11-0.14.0-py3-none-any.whl (58 kB)\n",
      "     -------------------------------------- 58.3/58.3 kB 510.8 kB/s eta 0:00:00\n",
      "Installing collected packages: websocket-client, typing_extensions, sniffio, h11, exceptiongroup, attrs, wsproto, outcome, trio, trio-websocket, selenium\n",
      "  Attempting uninstall: websocket-client\n",
      "    Found existing installation: websocket-client 0.58.0\n",
      "    Uninstalling websocket-client-0.58.0:\n",
      "      Successfully uninstalled websocket-client-0.58.0\n",
      "  Attempting uninstall: typing_extensions\n",
      "    Found existing installation: typing_extensions 4.3.0\n",
      "    Uninstalling typing_extensions-4.3.0:\n",
      "      Successfully uninstalled typing_extensions-4.3.0\n",
      "  Attempting uninstall: sniffio\n",
      "    Found existing installation: sniffio 1.2.0\n",
      "    Uninstalling sniffio-1.2.0:\n",
      "      Successfully uninstalled sniffio-1.2.0\n",
      "  Attempting uninstall: attrs\n",
      "    Found existing installation: attrs 21.4.0\n",
      "    Uninstalling attrs-21.4.0:\n",
      "      Successfully uninstalled attrs-21.4.0\n",
      "Successfully installed attrs-24.2.0 exceptiongroup-1.2.2 h11-0.14.0 outcome-1.3.0.post0 selenium-4.24.0 sniffio-1.3.1 trio-0.26.2 trio-websocket-0.11.1 typing_extensions-4.12.2 websocket-client-1.8.0 wsproto-1.2.0\n",
      "Note: you may need to restart the kernel to use updated packages.\n"
     ]
    }
   ],
   "source": [
    "pip install selenium"
   ]
  },
  {
   "cell_type": "code",
   "execution_count": 3,
   "id": "dc17a167",
   "metadata": {},
   "outputs": [
    {
     "name": "stdout",
     "output_type": "stream",
     "text": [
      "Requirement already satisfied: beautifulsoup4 in c:\\users\\blessedrei\\anaconda3\\lib\\site-packages (4.11.1)\n",
      "Requirement already satisfied: soupsieve>1.2 in c:\\users\\blessedrei\\anaconda3\\lib\\site-packages (from beautifulsoup4) (2.3.1)\n",
      "Note: you may need to restart the kernel to use updated packages.\n"
     ]
    }
   ],
   "source": [
    "pip install beautifulsoup4"
   ]
  },
  {
   "cell_type": "code",
   "execution_count": 97,
   "id": "e8e3e572",
   "metadata": {},
   "outputs": [],
   "source": [
    "import numpy as np # for arithmetic operations\n",
    "import pandas as pd # data manipulation\n",
    "import requests # getting access to the web page\n",
    "from bs4 import BeautifulSoup as bs # parsing the data extracted from the webpage\n",
    "import selenium # getting access and parsing data from webpage"
   ]
  },
  {
   "cell_type": "code",
   "execution_count": 98,
   "id": "01f0d5a6",
   "metadata": {},
   "outputs": [],
   "source": [
    "url =\"https://www.jumia.com.ng/catalog/?q=clothes\"\n",
    "response= requests.get(url)"
   ]
  },
  {
   "cell_type": "code",
   "execution_count": 99,
   "id": "1e3a2466",
   "metadata": {},
   "outputs": [],
   "source": [
    "html_content=response.content"
   ]
  },
  {
   "cell_type": "code",
   "execution_count": 100,
   "id": "ea53210f",
   "metadata": {},
   "outputs": [],
   "source": [
    "soup=bs(html_content)"
   ]
  },
  {
   "cell_type": "code",
   "execution_count": 101,
   "id": "9f24bed7",
   "metadata": {},
   "outputs": [
    {
     "data": {
      "text/plain": [
       "<div class=\"info\"><h3 class=\"name\">Kingskartel Kings-Kartel Stylish Sweatshirt &amp; Joggers Pant (Brown &amp; Black)</h3><div class=\"prc\">₦ 17,007 - ₦ 17,899</div><div class=\"s-prc-w\"><div class=\"old\">₦ 25,000</div><div class=\"bdg _dsct _sm\">32%</div></div><div class=\"rev\"><div class=\"stars _s\">3.8 out of 5<div class=\"in\" style=\"width:76%\"></div></div>(21)</div></div>"
      ]
     },
     "execution_count": 101,
     "metadata": {},
     "output_type": "execute_result"
    }
   ],
   "source": [
    "single_product=soup.find(\"div\", class_=\"info\") # find one product listed\n",
    "single_product"
   ]
  },
  {
   "cell_type": "code",
   "execution_count": 102,
   "id": "1a89fcf4",
   "metadata": {},
   "outputs": [
    {
     "data": {
      "text/plain": [
       "'Kingskartel Kings-Kartel Stylish Sweatshirt & Joggers Pant (Brown & Black)'"
      ]
     },
     "execution_count": 102,
     "metadata": {},
     "output_type": "execute_result"
    }
   ],
   "source": [
    "name=single_product.find(\"h3\", class_=\"name\").text\n",
    "name"
   ]
  },
  {
   "cell_type": "code",
   "execution_count": 103,
   "id": "67f6198e",
   "metadata": {},
   "outputs": [
    {
     "data": {
      "text/plain": [
       "'₦ 17,007 - ₦ 17,899'"
      ]
     },
     "execution_count": 103,
     "metadata": {},
     "output_type": "execute_result"
    }
   ],
   "source": [
    "price= single_product.find(\"div\", class_=\"prc\").text\n",
    "price"
   ]
  },
  {
   "cell_type": "code",
   "execution_count": 104,
   "id": "01a207f6",
   "metadata": {},
   "outputs": [
    {
     "data": {
      "text/plain": [
       "'₦ 25,000'"
      ]
     },
     "execution_count": 104,
     "metadata": {},
     "output_type": "execute_result"
    }
   ],
   "source": [
    "old_price= single_product.find(\"div\", class_=\"old\").text\n",
    "old_price"
   ]
  },
  {
   "cell_type": "code",
   "execution_count": 105,
   "id": "ae23f5ce",
   "metadata": {},
   "outputs": [
    {
     "data": {
      "text/plain": [
       "'32%'"
      ]
     },
     "execution_count": 105,
     "metadata": {},
     "output_type": "execute_result"
    }
   ],
   "source": [
    "discount= single_product.find(\"div\", class_=\"bdg _dsct _sm\").text\n",
    "discount"
   ]
  },
  {
   "cell_type": "code",
   "execution_count": 106,
   "id": "2151b49d",
   "metadata": {},
   "outputs": [
    {
     "data": {
      "text/plain": [
       "'3.8 out of 5(21)'"
      ]
     },
     "execution_count": 106,
     "metadata": {},
     "output_type": "execute_result"
    }
   ],
   "source": [
    "no_ppl_rating= single_product.find(\"div\", class_=\"rev\").text\n",
    "no_ppl_rating"
   ]
  },
  {
   "cell_type": "code",
   "execution_count": 107,
   "id": "5f68e08c",
   "metadata": {},
   "outputs": [
    {
     "data": {
      "text/plain": [
       "'3.8'"
      ]
     },
     "execution_count": 107,
     "metadata": {},
     "output_type": "execute_result"
    }
   ],
   "source": [
    "rating= single_product.find(\"div\", class_=\"rev\").text.split()[0]\n",
    "rating"
   ]
  },
  {
   "cell_type": "code",
   "execution_count": 108,
   "id": "43e3efda",
   "metadata": {},
   "outputs": [
    {
     "data": {
      "text/plain": [
       "'21'"
      ]
     },
     "execution_count": 108,
     "metadata": {},
     "output_type": "execute_result"
    }
   ],
   "source": [
    "no_ppl_rating2= single_product.find(\"div\", class_=\"rev\").text.split(\"(\")[-1].strip(\")\")\n",
    "no_ppl_rating2"
   ]
  },
  {
   "cell_type": "code",
   "execution_count": 109,
   "id": "cc44bc7b",
   "metadata": {},
   "outputs": [
    {
     "data": {
      "text/html": [
       "<div>\n",
       "<style scoped>\n",
       "    .dataframe tbody tr th:only-of-type {\n",
       "        vertical-align: middle;\n",
       "    }\n",
       "\n",
       "    .dataframe tbody tr th {\n",
       "        vertical-align: top;\n",
       "    }\n",
       "\n",
       "    .dataframe thead th {\n",
       "        text-align: right;\n",
       "    }\n",
       "</style>\n",
       "<table border=\"1\" class=\"dataframe\">\n",
       "  <thead>\n",
       "    <tr style=\"text-align: right;\">\n",
       "      <th></th>\n",
       "      <th>product_name</th>\n",
       "      <th>product_price</th>\n",
       "      <th>old_price</th>\n",
       "      <th>discount_percentage</th>\n",
       "      <th>rating</th>\n",
       "      <th>number_of_people_rated</th>\n",
       "    </tr>\n",
       "  </thead>\n",
       "  <tbody>\n",
       "    <tr>\n",
       "      <th>0</th>\n",
       "      <td>Kingskartel Kings-Kartel Stylish Sweatshirt &amp; ...</td>\n",
       "      <td>₦ 17,007 - ₦ 17,899</td>\n",
       "      <td>₦ 25,000</td>\n",
       "      <td>32%</td>\n",
       "      <td>3.8</td>\n",
       "      <td>21</td>\n",
       "    </tr>\n",
       "  </tbody>\n",
       "</table>\n",
       "</div>"
      ],
      "text/plain": [
       "                                        product_name        product_price  \\\n",
       "0  Kingskartel Kings-Kartel Stylish Sweatshirt & ...  ₦ 17,007 - ₦ 17,899   \n",
       "\n",
       "  old_price discount_percentage rating number_of_people_rated  \n",
       "0  ₦ 25,000                 32%    3.8                     21  "
      ]
     },
     "execution_count": 109,
     "metadata": {},
     "output_type": "execute_result"
    }
   ],
   "source": [
    "dic = {\"product_name\":[],\n",
    "      \"product_price\":[],\n",
    "      \"old_price\":[],\n",
    "      \"discount_percentage\":[],\n",
    "      \"rating\":[],\n",
    "      \"number_of_people_rated\":[]}\n",
    "dic[\"product_name\"].append(name)\n",
    "dic[\"product_price\"].append(price)\n",
    "dic[\"discount_percentage\"].append(discount)\n",
    "dic[\"old_price\"].append(old_price)\n",
    "dic[\"number_of_people_rated\"].append(no_ppl_rating2)\n",
    "dic[\"rating\"].append(rating)\n",
    "df=pd.DataFrame(dic, index=[0])\n",
    "df"
   ]
  },
  {
   "cell_type": "code",
   "execution_count": 110,
   "id": "ab5ca030",
   "metadata": {},
   "outputs": [
    {
     "data": {
      "text/html": [
       "<div>\n",
       "<style scoped>\n",
       "    .dataframe tbody tr th:only-of-type {\n",
       "        vertical-align: middle;\n",
       "    }\n",
       "\n",
       "    .dataframe tbody tr th {\n",
       "        vertical-align: top;\n",
       "    }\n",
       "\n",
       "    .dataframe thead th {\n",
       "        text-align: right;\n",
       "    }\n",
       "</style>\n",
       "<table border=\"1\" class=\"dataframe\">\n",
       "  <thead>\n",
       "    <tr style=\"text-align: right;\">\n",
       "      <th></th>\n",
       "      <th>product_name</th>\n",
       "      <th>product_price</th>\n",
       "      <th>old_price</th>\n",
       "      <th>discount_percentage</th>\n",
       "      <th>rating</th>\n",
       "      <th>number_of_people_rated</th>\n",
       "    </tr>\n",
       "  </thead>\n",
       "  <tbody>\n",
       "    <tr>\n",
       "      <th>0</th>\n",
       "      <td>Kingskartel Kings-Kartel Stylish Sweatshirt &amp; ...</td>\n",
       "      <td>₦ 17,007 - ₦ 17,899</td>\n",
       "      <td>₦ 25,000</td>\n",
       "      <td>32%</td>\n",
       "      <td>3.8</td>\n",
       "      <td>21</td>\n",
       "    </tr>\n",
       "    <tr>\n",
       "      <th>1</th>\n",
       "      <td>Kingskartel Kings-Kartel Stylish Hoodie &amp; Jogg...</td>\n",
       "      <td>₦ 17,897 - ₦ 17,899</td>\n",
       "      <td>₦ 25,000</td>\n",
       "      <td>28%</td>\n",
       "      <td>3.6</td>\n",
       "      <td>19</td>\n",
       "    </tr>\n",
       "    <tr>\n",
       "      <th>2</th>\n",
       "      <td>Danami 2 In One Sweat Shorts- Black &amp; Light Grey</td>\n",
       "      <td>₦ 12,529</td>\n",
       "      <td>₦ 13,999</td>\n",
       "      <td>11%</td>\n",
       "      <td>4.1</td>\n",
       "      <td>35</td>\n",
       "    </tr>\n",
       "    <tr>\n",
       "      <th>3</th>\n",
       "      <td>Three In One Smart Chinos  Black + Chocolate B...</td>\n",
       "      <td>₦ 37,700 - ₦ 38,999</td>\n",
       "      <td>NaN</td>\n",
       "      <td>NaN</td>\n",
       "      <td>NaN</td>\n",
       "      <td>NaN</td>\n",
       "    </tr>\n",
       "    <tr>\n",
       "      <th>4</th>\n",
       "      <td>Trousers Men's 2-in-1 Short Sleeved T-shirt An...</td>\n",
       "      <td>₦ 8,815 - ₦ 9,850</td>\n",
       "      <td>₦ 14,350</td>\n",
       "      <td>39%</td>\n",
       "      <td>3.5</td>\n",
       "      <td>62</td>\n",
       "    </tr>\n",
       "    <tr>\n",
       "      <th>5</th>\n",
       "      <td>5-Tiers Metal Shoe Rack Hat Rack With 16 Hooks</td>\n",
       "      <td>₦ 10,695</td>\n",
       "      <td>₦ 29,800</td>\n",
       "      <td>64%</td>\n",
       "      <td>4</td>\n",
       "      <td>92</td>\n",
       "    </tr>\n",
       "    <tr>\n",
       "      <th>6</th>\n",
       "      <td>2pcs Men's Sports Fashion Printed Hoodie Long ...</td>\n",
       "      <td>₦ 10,784</td>\n",
       "      <td>₦ 20,400</td>\n",
       "      <td>47%</td>\n",
       "      <td>4</td>\n",
       "      <td>6</td>\n",
       "    </tr>\n",
       "    <tr>\n",
       "      <th>7</th>\n",
       "      <td>Men's 2-piece Set - T-shirt + Trousers, Hip-ho...</td>\n",
       "      <td>₦ 11,626</td>\n",
       "      <td>₦ 25,800</td>\n",
       "      <td>55%</td>\n",
       "      <td>3.5</td>\n",
       "      <td>11</td>\n",
       "    </tr>\n",
       "    <tr>\n",
       "      <th>8</th>\n",
       "      <td>Kingskartel Kings Kartel Round Neck T-Shirt An...</td>\n",
       "      <td>₦ 16,103 - ₦ 16,109</td>\n",
       "      <td>₦ 22,000 - ₦ 22,001</td>\n",
       "      <td>27%</td>\n",
       "      <td>4.1</td>\n",
       "      <td>36</td>\n",
       "    </tr>\n",
       "    <tr>\n",
       "      <th>9</th>\n",
       "      <td>VEJARO BC003 Infant Baby Clothes Sets Dinosaur...</td>\n",
       "      <td>₦ 5,380</td>\n",
       "      <td>₦ 10,800</td>\n",
       "      <td>50%</td>\n",
       "      <td>4.1</td>\n",
       "      <td>229</td>\n",
       "    </tr>\n",
       "    <tr>\n",
       "      <th>10</th>\n",
       "      <td>Good Vibes Designed T-shirts - White &amp; Brown</td>\n",
       "      <td>₦ 13,066 - ₦ 15,622</td>\n",
       "      <td>₦ 20,000 - ₦ 30,000</td>\n",
       "      <td>56%</td>\n",
       "      <td>2.7</td>\n",
       "      <td>3</td>\n",
       "    </tr>\n",
       "    <tr>\n",
       "      <th>11</th>\n",
       "      <td>Trendy Blue Up And Down Wears Pk2</td>\n",
       "      <td>₦ 16,000 - ₦ 20,000</td>\n",
       "      <td>NaN</td>\n",
       "      <td>NaN</td>\n",
       "      <td>3</td>\n",
       "      <td>2</td>\n",
       "    </tr>\n",
       "    <tr>\n",
       "      <th>12</th>\n",
       "      <td>Kingskartel Kings Kartel All White Hoodie &amp; Jo...</td>\n",
       "      <td>₦ 16,109 - ₦ 17,899</td>\n",
       "      <td>₦ 20,000 - ₦ 25,000</td>\n",
       "      <td>28%</td>\n",
       "      <td>4.4</td>\n",
       "      <td>25</td>\n",
       "    </tr>\n",
       "    <tr>\n",
       "      <th>13</th>\n",
       "      <td>Trendy Blue Up And Down Wears Pk2</td>\n",
       "      <td>₦ 14,320 - ₦ 17,900</td>\n",
       "      <td>₦ 16,000 - ₦ 20,000</td>\n",
       "      <td>11%</td>\n",
       "      <td>3.6</td>\n",
       "      <td>8</td>\n",
       "    </tr>\n",
       "    <tr>\n",
       "      <th>14</th>\n",
       "      <td>VEJARO BC002 Infant Baby Clothes Sets Pattern ...</td>\n",
       "      <td>₦ 4,099 - ₦ 5,180</td>\n",
       "      <td>₦ 10,800</td>\n",
       "      <td>62%</td>\n",
       "      <td>4.1</td>\n",
       "      <td>133</td>\n",
       "    </tr>\n",
       "    <tr>\n",
       "      <th>15</th>\n",
       "      <td>3 In 1 Combo Stylish Unisex Up &amp; Down Envogue ...</td>\n",
       "      <td>₦ 24,572 - ₦ 35,000</td>\n",
       "      <td>₦ 27,455 - ₦ 35,000</td>\n",
       "      <td>11%</td>\n",
       "      <td>3.7</td>\n",
       "      <td>11</td>\n",
       "    </tr>\n",
       "    <tr>\n",
       "      <th>16</th>\n",
       "      <td>Kingskartel KIngs Kartel Stylish Black And Whi...</td>\n",
       "      <td>₦ 17,004 - ₦ 17,007</td>\n",
       "      <td>₦ 19,997 - ₦ 20,000</td>\n",
       "      <td>15%</td>\n",
       "      <td>3.8</td>\n",
       "      <td>6</td>\n",
       "    </tr>\n",
       "    <tr>\n",
       "      <th>17</th>\n",
       "      <td>Stylish Multicolor Unisex Up And Down Wears Pk</td>\n",
       "      <td>₦ 16,000 - ₦ 20,000</td>\n",
       "      <td>NaN</td>\n",
       "      <td>NaN</td>\n",
       "      <td>5</td>\n",
       "      <td>2</td>\n",
       "    </tr>\n",
       "    <tr>\n",
       "      <th>18</th>\n",
       "      <td>Trendy Offwhite Up And Down Wears</td>\n",
       "      <td>₦ 16,000 - ₦ 20,000</td>\n",
       "      <td>NaN</td>\n",
       "      <td>NaN</td>\n",
       "      <td>3.9</td>\n",
       "      <td>33</td>\n",
       "    </tr>\n",
       "    <tr>\n",
       "      <th>19</th>\n",
       "      <td>Stylish Multicolor Unisex Up And Down Wears Pk8</td>\n",
       "      <td>₦ 16,000 - ₦ 20,000</td>\n",
       "      <td>NaN</td>\n",
       "      <td>NaN</td>\n",
       "      <td>3</td>\n",
       "      <td>3</td>\n",
       "    </tr>\n",
       "    <tr>\n",
       "      <th>20</th>\n",
       "      <td>Kids Jacket Hoodies Sun Protection Clothing Sw...</td>\n",
       "      <td>₦ 717 - ₦ 814</td>\n",
       "      <td>₦ 1,595</td>\n",
       "      <td>55%</td>\n",
       "      <td>3.6</td>\n",
       "      <td>9</td>\n",
       "    </tr>\n",
       "    <tr>\n",
       "      <th>21</th>\n",
       "      <td>Best Styled Up And Down Wears  With Prints Pk3</td>\n",
       "      <td>₦ 16,500 - ₦ 20,000</td>\n",
       "      <td>NaN</td>\n",
       "      <td>NaN</td>\n",
       "      <td>4.2</td>\n",
       "      <td>21</td>\n",
       "    </tr>\n",
       "    <tr>\n",
       "      <th>22</th>\n",
       "      <td>Grey Hoodie And Joggers Manchester United Prints</td>\n",
       "      <td>₦ 14,320 - ₦ 17,900</td>\n",
       "      <td>₦ 16,000 - ₦ 20,000</td>\n",
       "      <td>11%</td>\n",
       "      <td>3.3</td>\n",
       "      <td>7</td>\n",
       "    </tr>\n",
       "    <tr>\n",
       "      <th>23</th>\n",
       "      <td>Kingskartel Kings Kartel Stylish White And Gre...</td>\n",
       "      <td>₦ 17,999 - ₦ 18,999</td>\n",
       "      <td>₦ 20,000</td>\n",
       "      <td>10%</td>\n",
       "      <td>3.4</td>\n",
       "      <td>12</td>\n",
       "    </tr>\n",
       "    <tr>\n",
       "      <th>24</th>\n",
       "      <td>Wooden Hanger -10 Pieces</td>\n",
       "      <td>₦ 12,350</td>\n",
       "      <td>₦ 17,500</td>\n",
       "      <td>29%</td>\n",
       "      <td>4.5</td>\n",
       "      <td>97</td>\n",
       "    </tr>\n",
       "    <tr>\n",
       "      <th>25</th>\n",
       "      <td>Trendy Offwhite Up And Down Wears</td>\n",
       "      <td>₦ 17,000</td>\n",
       "      <td>NaN</td>\n",
       "      <td>NaN</td>\n",
       "      <td>3.8</td>\n",
       "      <td>20</td>\n",
       "    </tr>\n",
       "    <tr>\n",
       "      <th>26</th>\n",
       "      <td>2pcs Men's Short Sleeve T-shirt+Shorts, Casual...</td>\n",
       "      <td>₦ 13,919 - ₦ 15,800</td>\n",
       "      <td>₦ 29,800</td>\n",
       "      <td>53%</td>\n",
       "      <td>5</td>\n",
       "      <td>1</td>\n",
       "    </tr>\n",
       "    <tr>\n",
       "      <th>27</th>\n",
       "      <td>Trendy Offwhite Up And Down Wears</td>\n",
       "      <td>₦ 16,000 - ₦ 20,000</td>\n",
       "      <td>NaN</td>\n",
       "      <td>NaN</td>\n",
       "      <td>4.3</td>\n",
       "      <td>3</td>\n",
       "    </tr>\n",
       "    <tr>\n",
       "      <th>28</th>\n",
       "      <td>Unisex Elegant Envogue Up &amp; Down T-Shirt  - Multi</td>\n",
       "      <td>₦ 14,999 - ₦ 15,999</td>\n",
       "      <td>NaN</td>\n",
       "      <td>NaN</td>\n",
       "      <td>4.2</td>\n",
       "      <td>13</td>\n",
       "    </tr>\n",
       "    <tr>\n",
       "      <th>29</th>\n",
       "      <td>Danami Pack Of 2 Plain Sleeveless Hooded T Shi...</td>\n",
       "      <td>₦ 12,440 - ₦ 13,335</td>\n",
       "      <td>₦ 16,000</td>\n",
       "      <td>22%</td>\n",
       "      <td>3.9</td>\n",
       "      <td>12</td>\n",
       "    </tr>\n",
       "    <tr>\n",
       "      <th>30</th>\n",
       "      <td>Best Styled Up And Down Wears  With Prints Pk1</td>\n",
       "      <td>₦ 17,000 - ₦ 20,000</td>\n",
       "      <td>NaN</td>\n",
       "      <td>NaN</td>\n",
       "      <td>4.3</td>\n",
       "      <td>4</td>\n",
       "    </tr>\n",
       "    <tr>\n",
       "      <th>31</th>\n",
       "      <td>Trendy Offwhite Up And Down Wears</td>\n",
       "      <td>₦ 16,000 - ₦ 20,000</td>\n",
       "      <td>NaN</td>\n",
       "      <td>NaN</td>\n",
       "      <td>5</td>\n",
       "      <td>1</td>\n",
       "    </tr>\n",
       "    <tr>\n",
       "      <th>32</th>\n",
       "      <td>Stylish Multicolor Unisex Up And Down Wears Pk3</td>\n",
       "      <td>₦ 14,000 - ₦ 17,500</td>\n",
       "      <td>NaN</td>\n",
       "      <td>NaN</td>\n",
       "      <td>4</td>\n",
       "      <td>1</td>\n",
       "    </tr>\n",
       "    <tr>\n",
       "      <th>33</th>\n",
       "      <td>Classy 3 Column Mobile Steel Wardrobe Closet(B...</td>\n",
       "      <td>₦ 24,995</td>\n",
       "      <td>₦ 30,000</td>\n",
       "      <td>17%</td>\n",
       "      <td>3.8</td>\n",
       "      <td>387</td>\n",
       "    </tr>\n",
       "    <tr>\n",
       "      <th>34</th>\n",
       "      <td>Danami Plain Black Cargo Combat Sweat Shorts &amp;...</td>\n",
       "      <td>₦ 8,860 - ₦ 12,000</td>\n",
       "      <td>₦ 9,900 - ₦ 12,000</td>\n",
       "      <td>11%</td>\n",
       "      <td>3.6</td>\n",
       "      <td>11</td>\n",
       "    </tr>\n",
       "    <tr>\n",
       "      <th>35</th>\n",
       "      <td>Stylish Multicolor Unisex Up And Down Wears Pk1</td>\n",
       "      <td>₦ 15,000 - ₦ 19,000</td>\n",
       "      <td>NaN</td>\n",
       "      <td>NaN</td>\n",
       "      <td>4.2</td>\n",
       "      <td>6</td>\n",
       "    </tr>\n",
       "    <tr>\n",
       "      <th>36</th>\n",
       "      <td>Quality Styled Up And Down Wears Pk7</td>\n",
       "      <td>₦ 16,500 - ₦ 20,000</td>\n",
       "      <td>NaN</td>\n",
       "      <td>NaN</td>\n",
       "      <td>3.8</td>\n",
       "      <td>16</td>\n",
       "    </tr>\n",
       "    <tr>\n",
       "      <th>37</th>\n",
       "      <td>Stylish Multicolor Unisex Up And Down Wears Pk3</td>\n",
       "      <td>₦ 16,000 - ₦ 20,000</td>\n",
       "      <td>NaN</td>\n",
       "      <td>NaN</td>\n",
       "      <td>4.6</td>\n",
       "      <td>5</td>\n",
       "    </tr>\n",
       "    <tr>\n",
       "      <th>38</th>\n",
       "      <td>Kingskartel Kings-Kartel Stylish Sweatshirt &amp; ...</td>\n",
       "      <td>₦ 17,999 - ₦ 19,999</td>\n",
       "      <td>₦ 25,000</td>\n",
       "      <td>28%</td>\n",
       "      <td>4.7</td>\n",
       "      <td>3</td>\n",
       "    </tr>\n",
       "    <tr>\n",
       "      <th>39</th>\n",
       "      <td>Custom Made Grey Hoodie And Joggers</td>\n",
       "      <td>₦ 18,000 - ₦ 20,500</td>\n",
       "      <td>NaN</td>\n",
       "      <td>NaN</td>\n",
       "      <td>4.3</td>\n",
       "      <td>7</td>\n",
       "    </tr>\n",
       "  </tbody>\n",
       "</table>\n",
       "</div>"
      ],
      "text/plain": [
       "                                         product_name        product_price  \\\n",
       "0   Kingskartel Kings-Kartel Stylish Sweatshirt & ...  ₦ 17,007 - ₦ 17,899   \n",
       "1   Kingskartel Kings-Kartel Stylish Hoodie & Jogg...  ₦ 17,897 - ₦ 17,899   \n",
       "2    Danami 2 In One Sweat Shorts- Black & Light Grey             ₦ 12,529   \n",
       "3   Three In One Smart Chinos  Black + Chocolate B...  ₦ 37,700 - ₦ 38,999   \n",
       "4   Trousers Men's 2-in-1 Short Sleeved T-shirt An...    ₦ 8,815 - ₦ 9,850   \n",
       "5      5-Tiers Metal Shoe Rack Hat Rack With 16 Hooks             ₦ 10,695   \n",
       "6   2pcs Men's Sports Fashion Printed Hoodie Long ...             ₦ 10,784   \n",
       "7   Men's 2-piece Set - T-shirt + Trousers, Hip-ho...             ₦ 11,626   \n",
       "8   Kingskartel Kings Kartel Round Neck T-Shirt An...  ₦ 16,103 - ₦ 16,109   \n",
       "9   VEJARO BC003 Infant Baby Clothes Sets Dinosaur...              ₦ 5,380   \n",
       "10       Good Vibes Designed T-shirts - White & Brown  ₦ 13,066 - ₦ 15,622   \n",
       "11                  Trendy Blue Up And Down Wears Pk2  ₦ 16,000 - ₦ 20,000   \n",
       "12  Kingskartel Kings Kartel All White Hoodie & Jo...  ₦ 16,109 - ₦ 17,899   \n",
       "13                  Trendy Blue Up And Down Wears Pk2  ₦ 14,320 - ₦ 17,900   \n",
       "14  VEJARO BC002 Infant Baby Clothes Sets Pattern ...    ₦ 4,099 - ₦ 5,180   \n",
       "15  3 In 1 Combo Stylish Unisex Up & Down Envogue ...  ₦ 24,572 - ₦ 35,000   \n",
       "16  Kingskartel KIngs Kartel Stylish Black And Whi...  ₦ 17,004 - ₦ 17,007   \n",
       "17     Stylish Multicolor Unisex Up And Down Wears Pk  ₦ 16,000 - ₦ 20,000   \n",
       "18                  Trendy Offwhite Up And Down Wears  ₦ 16,000 - ₦ 20,000   \n",
       "19    Stylish Multicolor Unisex Up And Down Wears Pk8  ₦ 16,000 - ₦ 20,000   \n",
       "20  Kids Jacket Hoodies Sun Protection Clothing Sw...        ₦ 717 - ₦ 814   \n",
       "21     Best Styled Up And Down Wears  With Prints Pk3  ₦ 16,500 - ₦ 20,000   \n",
       "22   Grey Hoodie And Joggers Manchester United Prints  ₦ 14,320 - ₦ 17,900   \n",
       "23  Kingskartel Kings Kartel Stylish White And Gre...  ₦ 17,999 - ₦ 18,999   \n",
       "24                           Wooden Hanger -10 Pieces             ₦ 12,350   \n",
       "25                  Trendy Offwhite Up And Down Wears             ₦ 17,000   \n",
       "26  2pcs Men's Short Sleeve T-shirt+Shorts, Casual...  ₦ 13,919 - ₦ 15,800   \n",
       "27                  Trendy Offwhite Up And Down Wears  ₦ 16,000 - ₦ 20,000   \n",
       "28  Unisex Elegant Envogue Up & Down T-Shirt  - Multi  ₦ 14,999 - ₦ 15,999   \n",
       "29  Danami Pack Of 2 Plain Sleeveless Hooded T Shi...  ₦ 12,440 - ₦ 13,335   \n",
       "30     Best Styled Up And Down Wears  With Prints Pk1  ₦ 17,000 - ₦ 20,000   \n",
       "31                  Trendy Offwhite Up And Down Wears  ₦ 16,000 - ₦ 20,000   \n",
       "32    Stylish Multicolor Unisex Up And Down Wears Pk3  ₦ 14,000 - ₦ 17,500   \n",
       "33  Classy 3 Column Mobile Steel Wardrobe Closet(B...             ₦ 24,995   \n",
       "34  Danami Plain Black Cargo Combat Sweat Shorts &...   ₦ 8,860 - ₦ 12,000   \n",
       "35    Stylish Multicolor Unisex Up And Down Wears Pk1  ₦ 15,000 - ₦ 19,000   \n",
       "36               Quality Styled Up And Down Wears Pk7  ₦ 16,500 - ₦ 20,000   \n",
       "37    Stylish Multicolor Unisex Up And Down Wears Pk3  ₦ 16,000 - ₦ 20,000   \n",
       "38  Kingskartel Kings-Kartel Stylish Sweatshirt & ...  ₦ 17,999 - ₦ 19,999   \n",
       "39                Custom Made Grey Hoodie And Joggers  ₦ 18,000 - ₦ 20,500   \n",
       "\n",
       "              old_price discount_percentage rating number_of_people_rated  \n",
       "0              ₦ 25,000                 32%    3.8                     21  \n",
       "1              ₦ 25,000                 28%    3.6                     19  \n",
       "2              ₦ 13,999                 11%    4.1                     35  \n",
       "3                   NaN                 NaN    NaN                    NaN  \n",
       "4              ₦ 14,350                 39%    3.5                     62  \n",
       "5              ₦ 29,800                 64%      4                     92  \n",
       "6              ₦ 20,400                 47%      4                      6  \n",
       "7              ₦ 25,800                 55%    3.5                     11  \n",
       "8   ₦ 22,000 - ₦ 22,001                 27%    4.1                     36  \n",
       "9              ₦ 10,800                 50%    4.1                    229  \n",
       "10  ₦ 20,000 - ₦ 30,000                 56%    2.7                      3  \n",
       "11                  NaN                 NaN      3                      2  \n",
       "12  ₦ 20,000 - ₦ 25,000                 28%    4.4                     25  \n",
       "13  ₦ 16,000 - ₦ 20,000                 11%    3.6                      8  \n",
       "14             ₦ 10,800                 62%    4.1                    133  \n",
       "15  ₦ 27,455 - ₦ 35,000                 11%    3.7                     11  \n",
       "16  ₦ 19,997 - ₦ 20,000                 15%    3.8                      6  \n",
       "17                  NaN                 NaN      5                      2  \n",
       "18                  NaN                 NaN    3.9                     33  \n",
       "19                  NaN                 NaN      3                      3  \n",
       "20              ₦ 1,595                 55%    3.6                      9  \n",
       "21                  NaN                 NaN    4.2                     21  \n",
       "22  ₦ 16,000 - ₦ 20,000                 11%    3.3                      7  \n",
       "23             ₦ 20,000                 10%    3.4                     12  \n",
       "24             ₦ 17,500                 29%    4.5                     97  \n",
       "25                  NaN                 NaN    3.8                     20  \n",
       "26             ₦ 29,800                 53%      5                      1  \n",
       "27                  NaN                 NaN    4.3                      3  \n",
       "28                  NaN                 NaN    4.2                     13  \n",
       "29             ₦ 16,000                 22%    3.9                     12  \n",
       "30                  NaN                 NaN    4.3                      4  \n",
       "31                  NaN                 NaN      5                      1  \n",
       "32                  NaN                 NaN      4                      1  \n",
       "33             ₦ 30,000                 17%    3.8                    387  \n",
       "34   ₦ 9,900 - ₦ 12,000                 11%    3.6                     11  \n",
       "35                  NaN                 NaN    4.2                      6  \n",
       "36                  NaN                 NaN    3.8                     16  \n",
       "37                  NaN                 NaN    4.6                      5  \n",
       "38             ₦ 25,000                 28%    4.7                      3  \n",
       "39                  NaN                 NaN    4.3                      7  "
      ]
     },
     "execution_count": 110,
     "metadata": {},
     "output_type": "execute_result"
    }
   ],
   "source": [
    "dic = {\"product_name\":[],\n",
    "      \"product_price\":[],\n",
    "      \"old_price\":[],\n",
    "      \"discount_percentage\":[],\n",
    "      \"rating\":[],\n",
    "      \"number_of_people_rated\":[]}\n",
    "\n",
    "all_product=soup.findAll(\"div\", class_=\"info\") # returns list of all the products listed\n",
    "for i in all_product:\n",
    "    try:\n",
    "        dic[\"discount_percentage\"].append(i.find(\"div\", class_=\"bdg _dsct _sm\").text)\n",
    "    except:\n",
    "        dic[\"discount_percentage\"].append(np.nan)\n",
    "    try:\n",
    "        dic[\"product_name\"].append(i.find(\"h3\", class_=\"name\").text)\n",
    "    except:\n",
    "        dic[\"product_name\"].append(np.nan)\n",
    "    try:\n",
    "        dic[\"product_price\"].append(i.find(\"div\", class_=\"prc\").text)\n",
    "    except:\n",
    "        dic[\"product_price\"].append(np.nan)\n",
    "    try:\n",
    "        dic[\"old_price\"].append(i.find(\"div\", class_=\"old\").text)\n",
    "    except:\n",
    "        dic[\"old_price\"].append(np.nan)\n",
    "    try:\n",
    "        dic[\"rating\"].append(i.find(\"div\", class_=\"rev\").text.split()[0])\n",
    "    except:\n",
    "        dic[\"rating\"].append(np.nan)\n",
    "    try:\n",
    "        dic[\"number_of_people_rated\"].append(i.find(\"div\", class_=\"rev\").text.split(\"(\")[-1].strip(\")\"))\n",
    "    except:\n",
    "        dic[\"number_of_people_rated\"].append(np.nan)\n",
    "\n",
    "df=pd.DataFrame(dic)\n",
    "df"
   ]
  },
  {
   "cell_type": "code",
   "execution_count": 111,
   "id": "828930f6",
   "metadata": {},
   "outputs": [
    {
     "data": {
      "text/html": [
       "<div>\n",
       "<style scoped>\n",
       "    .dataframe tbody tr th:only-of-type {\n",
       "        vertical-align: middle;\n",
       "    }\n",
       "\n",
       "    .dataframe tbody tr th {\n",
       "        vertical-align: top;\n",
       "    }\n",
       "\n",
       "    .dataframe thead th {\n",
       "        text-align: right;\n",
       "    }\n",
       "</style>\n",
       "<table border=\"1\" class=\"dataframe\">\n",
       "  <thead>\n",
       "    <tr style=\"text-align: right;\">\n",
       "      <th></th>\n",
       "      <th>product_name</th>\n",
       "      <th>product_price</th>\n",
       "      <th>old_price</th>\n",
       "      <th>discount_percentage</th>\n",
       "      <th>rating</th>\n",
       "      <th>number_of_people_rated</th>\n",
       "    </tr>\n",
       "  </thead>\n",
       "  <tbody>\n",
       "    <tr>\n",
       "      <th>0</th>\n",
       "      <td>Kingskartel Kings-Kartel Stylish Sweatshirt &amp; ...</td>\n",
       "      <td>₦ 17,007 - ₦ 17,899</td>\n",
       "      <td>₦ 25,000</td>\n",
       "      <td>32%</td>\n",
       "      <td>3.8</td>\n",
       "      <td>21</td>\n",
       "    </tr>\n",
       "    <tr>\n",
       "      <th>1</th>\n",
       "      <td>Kingskartel Kings-Kartel Stylish Hoodie &amp; Jogg...</td>\n",
       "      <td>₦ 17,897 - ₦ 17,899</td>\n",
       "      <td>₦ 25,000</td>\n",
       "      <td>28%</td>\n",
       "      <td>3.6</td>\n",
       "      <td>19</td>\n",
       "    </tr>\n",
       "    <tr>\n",
       "      <th>2</th>\n",
       "      <td>Danami 2 In One Sweat Shorts- Black &amp; Light Grey</td>\n",
       "      <td>₦ 12,529</td>\n",
       "      <td>₦ 13,999</td>\n",
       "      <td>11%</td>\n",
       "      <td>4.1</td>\n",
       "      <td>35</td>\n",
       "    </tr>\n",
       "    <tr>\n",
       "      <th>3</th>\n",
       "      <td>Three In One Smart Chinos  Black + Chocolate B...</td>\n",
       "      <td>₦ 37,700 - ₦ 38,999</td>\n",
       "      <td>NaN</td>\n",
       "      <td>NaN</td>\n",
       "      <td>NaN</td>\n",
       "      <td>NaN</td>\n",
       "    </tr>\n",
       "    <tr>\n",
       "      <th>4</th>\n",
       "      <td>Trousers Men's 2-in-1 Short Sleeved T-shirt An...</td>\n",
       "      <td>₦ 8,815 - ₦ 9,850</td>\n",
       "      <td>₦ 14,350</td>\n",
       "      <td>39%</td>\n",
       "      <td>3.5</td>\n",
       "      <td>62</td>\n",
       "    </tr>\n",
       "    <tr>\n",
       "      <th>...</th>\n",
       "      <td>...</td>\n",
       "      <td>...</td>\n",
       "      <td>...</td>\n",
       "      <td>...</td>\n",
       "      <td>...</td>\n",
       "      <td>...</td>\n",
       "    </tr>\n",
       "    <tr>\n",
       "      <th>1995</th>\n",
       "      <td>Stylish Multicolor Unisex Up And Down Wears Pk1</td>\n",
       "      <td>₦ 15,000 - ₦ 19,000</td>\n",
       "      <td>NaN</td>\n",
       "      <td>NaN</td>\n",
       "      <td>4.2</td>\n",
       "      <td>6</td>\n",
       "    </tr>\n",
       "    <tr>\n",
       "      <th>1996</th>\n",
       "      <td>Quality Styled Up And Down Wears Pk7</td>\n",
       "      <td>₦ 16,500 - ₦ 20,000</td>\n",
       "      <td>NaN</td>\n",
       "      <td>NaN</td>\n",
       "      <td>3.8</td>\n",
       "      <td>16</td>\n",
       "    </tr>\n",
       "    <tr>\n",
       "      <th>1997</th>\n",
       "      <td>Stylish Multicolor Unisex Up And Down Wears Pk3</td>\n",
       "      <td>₦ 16,000 - ₦ 20,000</td>\n",
       "      <td>NaN</td>\n",
       "      <td>NaN</td>\n",
       "      <td>4.6</td>\n",
       "      <td>5</td>\n",
       "    </tr>\n",
       "    <tr>\n",
       "      <th>1998</th>\n",
       "      <td>Kingskartel Kings-Kartel Stylish Sweatshirt &amp; ...</td>\n",
       "      <td>₦ 17,999 - ₦ 19,999</td>\n",
       "      <td>₦ 25,000</td>\n",
       "      <td>28%</td>\n",
       "      <td>4.7</td>\n",
       "      <td>3</td>\n",
       "    </tr>\n",
       "    <tr>\n",
       "      <th>1999</th>\n",
       "      <td>Custom Made Grey Hoodie And Joggers</td>\n",
       "      <td>₦ 18,000 - ₦ 20,500</td>\n",
       "      <td>NaN</td>\n",
       "      <td>NaN</td>\n",
       "      <td>4.3</td>\n",
       "      <td>7</td>\n",
       "    </tr>\n",
       "  </tbody>\n",
       "</table>\n",
       "<p>2000 rows × 6 columns</p>\n",
       "</div>"
      ],
      "text/plain": [
       "                                           product_name        product_price  \\\n",
       "0     Kingskartel Kings-Kartel Stylish Sweatshirt & ...  ₦ 17,007 - ₦ 17,899   \n",
       "1     Kingskartel Kings-Kartel Stylish Hoodie & Jogg...  ₦ 17,897 - ₦ 17,899   \n",
       "2      Danami 2 In One Sweat Shorts- Black & Light Grey             ₦ 12,529   \n",
       "3     Three In One Smart Chinos  Black + Chocolate B...  ₦ 37,700 - ₦ 38,999   \n",
       "4     Trousers Men's 2-in-1 Short Sleeved T-shirt An...    ₦ 8,815 - ₦ 9,850   \n",
       "...                                                 ...                  ...   \n",
       "1995    Stylish Multicolor Unisex Up And Down Wears Pk1  ₦ 15,000 - ₦ 19,000   \n",
       "1996               Quality Styled Up And Down Wears Pk7  ₦ 16,500 - ₦ 20,000   \n",
       "1997    Stylish Multicolor Unisex Up And Down Wears Pk3  ₦ 16,000 - ₦ 20,000   \n",
       "1998  Kingskartel Kings-Kartel Stylish Sweatshirt & ...  ₦ 17,999 - ₦ 19,999   \n",
       "1999                Custom Made Grey Hoodie And Joggers  ₦ 18,000 - ₦ 20,500   \n",
       "\n",
       "     old_price discount_percentage rating number_of_people_rated  \n",
       "0     ₦ 25,000                 32%    3.8                     21  \n",
       "1     ₦ 25,000                 28%    3.6                     19  \n",
       "2     ₦ 13,999                 11%    4.1                     35  \n",
       "3          NaN                 NaN    NaN                    NaN  \n",
       "4     ₦ 14,350                 39%    3.5                     62  \n",
       "...        ...                 ...    ...                    ...  \n",
       "1995       NaN                 NaN    4.2                      6  \n",
       "1996       NaN                 NaN    3.8                     16  \n",
       "1997       NaN                 NaN    4.6                      5  \n",
       "1998  ₦ 25,000                 28%    4.7                      3  \n",
       "1999       NaN                 NaN    4.3                      7  \n",
       "\n",
       "[2000 rows x 6 columns]"
      ]
     },
     "execution_count": 111,
     "metadata": {},
     "output_type": "execute_result"
    }
   ],
   "source": [
    "page =1\n",
    "dic = {\"product_name\":[],\n",
    "      \"product_price\":[],\n",
    "      \"old_price\":[],\n",
    "      \"discount_percentage\":[],\n",
    "      \"rating\":[],\n",
    "      \"number_of_people_rated\":[]}\n",
    "while page<=50:\n",
    "    url= f\"https://www.jumia.com.ng/mens-clothing-bundles/?page={page}#catalog-listing\"\n",
    "    response= requests.get(url)\n",
    "    html_content=response.content\n",
    "    soup=bs(html_content)\n",
    "    all_products=soup.findAll(\"div\", class_=\"info\") # returns list of all products listed\n",
    "    for i in all_product:\n",
    "        try:\n",
    "            dic[\"discount_percentage\"].append(i.find(\"div\", class_=\"bdg _dsct _sm\").text)\n",
    "        except:\n",
    "            dic[\"discount_percentage\"].append(np.nan)\n",
    "        try:\n",
    "            dic[\"product_name\"].append(i.find(\"h3\", class_=\"name\").text)\n",
    "        except:\n",
    "            dic[\"product_name\"].append(np.nan)\n",
    "        try:\n",
    "            dic[\"product_price\"].append(i.find(\"div\", class_=\"prc\").text)\n",
    "        except:\n",
    "            dic[\"product_price\"].append(np.nan)\n",
    "        try:\n",
    "            dic[\"old_price\"].append(i.find(\"div\", class_=\"old\").text)\n",
    "        except:\n",
    "            dic[\"old_price\"].append(np.nan)\n",
    "        try:\n",
    "            dic[\"rating\"].append(i.find(\"div\", class_=\"rev\").text.split()[0])\n",
    "        except:\n",
    "            dic[\"rating\"].append(np.nan)\n",
    "        try:\n",
    "            dic[\"number_of_people_rated\"].append(i.find(\"div\", class_=\"rev\").text.split(\"(\")[-1].strip(\")\"))\n",
    "        except:\n",
    "            dic[\"number_of_people_rated\"].append(np.nan)\n",
    "    page+=1\n",
    "df=pd.DataFrame(dic)\n",
    "df"
   ]
  },
  {
   "cell_type": "code",
   "execution_count": 112,
   "id": "c286ea75",
   "metadata": {},
   "outputs": [],
   "source": [
    "df.to_csv(\"clothing.csv\", index=False)"
   ]
  },
  {
   "cell_type": "markdown",
   "id": "6c7d41a0",
   "metadata": {},
   "source": [
    "## Time when request is not working"
   ]
  },
  {
   "cell_type": "code",
   "execution_count": 113,
   "id": "951e2048",
   "metadata": {},
   "outputs": [],
   "source": [
    "url=\"https://www.amazon.com/s?k=clothes&crid=3VUXXM9I6LGFR&sprefix=clothes%2Caps%2C298&ref=nb_sb_noss_1\""
   ]
  },
  {
   "cell_type": "code",
   "execution_count": 114,
   "id": "d4d954a1",
   "metadata": {},
   "outputs": [],
   "source": [
    "res = requests.get(url)"
   ]
  },
  {
   "cell_type": "code",
   "execution_count": 115,
   "id": "2b0e1622",
   "metadata": {},
   "outputs": [
    {
     "data": {
      "text/plain": [
       "b'<!--\\n        To discuss automated access to Amazon data please contact api-services-support@amazon.com.\\n        For information about migrating to our APIs refer to our Marketplace APIs at https://developer.amazonservices.com/ref=rm_5_sv, or our Product Advertising API at https://affiliate-program.amazon.com/gp/advertising/api/detail/main.html/ref=rm_5_ac for advertising use cases.\\n-->\\n<!doctype html>\\n<html>\\n<head>\\n  <meta charset=\"utf-8\">\\n  <meta http-equiv=\"x-ua-compatible\" content=\"ie=edge\">\\n  <meta name=\"viewport\" content=\"width=device-width, initial-scale=1, shrink-to-fit=no\">\\n  <title>Sorry! Something went wrong!</title>\\n  <style>\\n  html, body {\\n    padding: 0;\\n    margin: 0\\n  }\\n\\n  img {\\n    border: 0\\n  }\\n\\n  #a {\\n    background: #232f3e;\\n    padding: 11px 11px 11px 192px\\n  }\\n\\n  #b {\\n    position: absolute;\\n    left: 22px;\\n    top: 12px\\n  }\\n\\n  #c {\\n    position: relative;\\n    max-width: 800px;\\n    padding: 0 40px 0 0\\n  }\\n\\n  #e, #f {\\n    height: 35px;\\n    border: 0;\\n    font-size: 1em\\n  }\\n\\n  #e {\\n    width: 100%;\\n    margin: 0;\\n    padding: 0 10px;\\n    border-radius: 4px 0 0 4px\\n  }\\n\\n  #f {\\n    cursor: pointer;\\n    background: #febd69;\\n    font-weight: bold;\\n    border-radius: 0 4px 4px 0;\\n    -webkit-appearance: none;\\n    position: absolute;\\n    top: 0;\\n    right: 0;\\n    padding: 0 12px\\n  }\\n\\n  @media (max-width: 500px) {\\n    #a {\\n      padding: 55px 10px 10px\\n    }\\n\\n    #b {\\n      left: 6px\\n    }\\n  }\\n\\n  #g {\\n    text-align: center;\\n    margin: 30px 0\\n  }\\n\\n  #g img {\\n    max-width: 90%\\n  }\\n\\n  #d {\\n    display: none\\n  }\\n\\n  #d[src] {\\n    display: inline\\n  }\\n  </style>\\n</head>\\n<body>\\n    <a href=\"/ref=cs_503_logo\"><img id=\"b\" src=\"https://images-na.ssl-images-amazon.com/images/G/01/error/logo._TTD_.png\" alt=\"Amazon.com\"></a>\\n    <form id=\"a\" accept-charset=\"utf-8\" action=\"/s\" method=\"GET\" role=\"search\">\\n        <div id=\"c\">\\n            <input id=\"e\" name=\"field-keywords\" placeholder=\"Search\">\\n            <input name=\"ref\" type=\"hidden\" value=\"cs_503_search\">\\n            <input id=\"f\" type=\"submit\" value=\"Go\">\\n        </div>\\n    </form>\\n<div id=\"g\">\\n  <div><a href=\"/ref=cs_503_link\"><img src=\"https://images-na.ssl-images-amazon.com/images/G/01/error/500_503.png\"\\n                                        alt=\"Sorry! Something went wrong on our end. Please go back and try again or go to Amazon\\'s home page.\"></a>\\n  </div>\\n  <a href=\"/dogsofamazon/ref=cs_503_d\" target=\"_blank\" rel=\"noopener noreferrer\"><img id=\"d\" alt=\"Dogs of Amazon\"></a>\\n  <script>document.getElementById(\"d\").src = \"https://images-na.ssl-images-amazon.com/images/G/01/error/\" + (Math.floor(Math.random() * 43) + 1) + \"._TTD_.jpg\";</script>\\n</div>\\n</body>\\n</html>\\n'"
      ]
     },
     "execution_count": 115,
     "metadata": {},
     "output_type": "execute_result"
    }
   ],
   "source": [
    "res.content"
   ]
  },
  {
   "cell_type": "markdown",
   "id": "6b6cb701",
   "metadata": {},
   "source": [
    "## extracting info using selenium"
   ]
  },
  {
   "cell_type": "code",
   "execution_count": 116,
   "id": "35f28f6c",
   "metadata": {},
   "outputs": [],
   "source": [
    "import selenium\n",
    "from selenium import webdriver\n",
    "from selenium.webdriver.chrome.service import Service\n",
    "from selenium.webdriver.chrome.options import Options\n",
    "from selenium.webdriver import Chrome\n",
    "\n",
    "driver_path = \"C:\\\\Users\\\\BlessedREI\\\\Desktop\\\\Data Science Course\\\\software\\\\data class web scrapping\\\\chromedriver.exe\"\n",
    "opt = Options() ## opt=Options(\"\")\n",
    "ser = Service(driver_path)\n",
    "driver = Chrome(options=opt, service=ser)"
   ]
  },
  {
   "cell_type": "code",
   "execution_count": 117,
   "id": "2b8537b0",
   "metadata": {},
   "outputs": [],
   "source": [
    "url=\"https://www.amazon.com/s?k=clothes&crid=3VUXXM9I6LGFR&sprefix=clothes%2Caps%2C298&ref=nb_sb_noss_1\"\n",
    "res= driver.get(url)\n",
    "html= driver.page_source"
   ]
  },
  {
   "cell_type": "code",
   "execution_count": 118,
   "id": "a0798b14",
   "metadata": {},
   "outputs": [],
   "source": [
    "sp=bs(html)"
   ]
  },
  {
   "cell_type": "code",
   "execution_count": 119,
   "id": "35613314",
   "metadata": {},
   "outputs": [
    {
     "data": {
      "text/plain": [
       "<html><head>\n",
       "<meta charset=\"utf-8\"/>\n",
       "<meta content=\"ie=edge\" http-equiv=\"x-ua-compatible\"/>\n",
       "<meta content=\"width=device-width, initial-scale=1, shrink-to-fit=no\" name=\"viewport\"/>\n",
       "<title>Sorry! Something went wrong!</title>\n",
       "<style>\n",
       "  html, body {\n",
       "    padding: 0;\n",
       "    margin: 0\n",
       "  }\n",
       "\n",
       "  img {\n",
       "    border: 0\n",
       "  }\n",
       "\n",
       "  #a {\n",
       "    background: #232f3e;\n",
       "    padding: 11px 11px 11px 192px\n",
       "  }\n",
       "\n",
       "  #b {\n",
       "    position: absolute;\n",
       "    left: 22px;\n",
       "    top: 12px\n",
       "  }\n",
       "\n",
       "  #c {\n",
       "    position: relative;\n",
       "    max-width: 800px;\n",
       "    padding: 0 40px 0 0\n",
       "  }\n",
       "\n",
       "  #e, #f {\n",
       "    height: 35px;\n",
       "    border: 0;\n",
       "    font-size: 1em\n",
       "  }\n",
       "\n",
       "  #e {\n",
       "    width: 100%;\n",
       "    margin: 0;\n",
       "    padding: 0 10px;\n",
       "    border-radius: 4px 0 0 4px\n",
       "  }\n",
       "\n",
       "  #f {\n",
       "    cursor: pointer;\n",
       "    background: #febd69;\n",
       "    font-weight: bold;\n",
       "    border-radius: 0 4px 4px 0;\n",
       "    -webkit-appearance: none;\n",
       "    position: absolute;\n",
       "    top: 0;\n",
       "    right: 0;\n",
       "    padding: 0 12px\n",
       "  }\n",
       "\n",
       "  @media (max-width: 500px) {\n",
       "    #a {\n",
       "      padding: 55px 10px 10px\n",
       "    }\n",
       "\n",
       "    #b {\n",
       "      left: 6px\n",
       "    }\n",
       "  }\n",
       "\n",
       "  #g {\n",
       "    text-align: center;\n",
       "    margin: 30px 0\n",
       "  }\n",
       "\n",
       "  #g img {\n",
       "    max-width: 90%\n",
       "  }\n",
       "\n",
       "  #d {\n",
       "    display: none\n",
       "  }\n",
       "\n",
       "  #d[src] {\n",
       "    display: inline\n",
       "  }\n",
       "  </style>\n",
       "</head>\n",
       "<body>\n",
       "<a href=\"/ref=cs_503_logo\"><img alt=\"Amazon.com\" id=\"b\" src=\"https://images-na.ssl-images-amazon.com/images/G/01/error/logo._TTD_.png\"/></a>\n",
       "<form accept-charset=\"utf-8\" action=\"/s\" id=\"a\" method=\"GET\" role=\"search\">\n",
       "<div id=\"c\">\n",
       "<input id=\"e\" name=\"field-keywords\" placeholder=\"Search\"/>\n",
       "<input name=\"ref\" type=\"hidden\" value=\"cs_503_search\"/>\n",
       "<input id=\"f\" type=\"submit\" value=\"Go\"/>\n",
       "</div>\n",
       "</form>\n",
       "<div id=\"g\">\n",
       "<div><a href=\"/ref=cs_503_link\"><img alt=\"Sorry! Something went wrong on our end. Please go back and try again or go to Amazon's home page.\" src=\"https://images-na.ssl-images-amazon.com/images/G/01/error/500_503.png\"/></a>\n",
       "</div>\n",
       "<a href=\"/dogsofamazon/ref=cs_503_d\" rel=\"noopener noreferrer\" target=\"_blank\"><img alt=\"Dogs of Amazon\" id=\"d\" src=\"https://images-na.ssl-images-amazon.com/images/G/01/error/13._TTD_.jpg\"/></a>\n",
       "<script>document.getElementById(\"d\").src = \"https://images-na.ssl-images-amazon.com/images/G/01/error/\" + (Math.floor(Math.random() * 43) + 1) + \"._TTD_.jpg\";</script>\n",
       "</div>\n",
       "</body></html>"
      ]
     },
     "execution_count": 119,
     "metadata": {},
     "output_type": "execute_result"
    }
   ],
   "source": [
    "sp"
   ]
  },
  {
   "cell_type": "code",
   "execution_count": 120,
   "id": "14fd4a6f",
   "metadata": {},
   "outputs": [],
   "source": [
    "sp.find(\"div\", class_=\"a-section a-spacing-small puis-padding-left-small puis-padding-right-small\")"
   ]
  },
  {
   "cell_type": "code",
   "execution_count": 121,
   "id": "76c60f79",
   "metadata": {},
   "outputs": [
    {
     "ename": "AttributeError",
     "evalue": "'NoneType' object has no attribute 'text'",
     "output_type": "error",
     "traceback": [
      "\u001b[1;31m---------------------------------------------------------------------------\u001b[0m",
      "\u001b[1;31mAttributeError\u001b[0m                            Traceback (most recent call last)",
      "\u001b[1;32m~\\AppData\\Local\\Temp\\ipykernel_11704\\2729263996.py\u001b[0m in \u001b[0;36m<module>\u001b[1;34m\u001b[0m\n\u001b[1;32m----> 1\u001b[1;33m \u001b[0mname\u001b[0m\u001b[1;33m=\u001b[0m\u001b[0msp\u001b[0m\u001b[1;33m.\u001b[0m\u001b[0mfind\u001b[0m\u001b[1;33m(\u001b[0m\u001b[1;34m\"a\"\u001b[0m\u001b[1;33m,\u001b[0m \u001b[0mclass_\u001b[0m\u001b[1;33m=\u001b[0m\u001b[1;34m\"a-link-normal s-underline-text s-underline-link-text s-link-style a-text-normal\"\u001b[0m\u001b[1;33m)\u001b[0m\u001b[1;33m.\u001b[0m\u001b[0mtext\u001b[0m\u001b[1;33m\u001b[0m\u001b[1;33m\u001b[0m\u001b[0m\n\u001b[0m\u001b[0;32m      2\u001b[0m \u001b[0mname\u001b[0m\u001b[1;33m\u001b[0m\u001b[1;33m\u001b[0m\u001b[0m\n",
      "\u001b[1;31mAttributeError\u001b[0m: 'NoneType' object has no attribute 'text'"
     ]
    }
   ],
   "source": [
    "name=sp.find(\"a\", class_=\"a-link-normal s-underline-text s-underline-link-text s-link-style a-text-normal\").text\n",
    "name"
   ]
  },
  {
   "cell_type": "code",
   "execution_count": null,
   "id": "63364697",
   "metadata": {},
   "outputs": [],
   "source": [
    "review=sp.find(\"span\", class_=\"a-icon-alt\").text\n",
    "review"
   ]
  },
  {
   "cell_type": "code",
   "execution_count": null,
   "id": "d1bf62fa",
   "metadata": {},
   "outputs": [],
   "source": [
    "no_ppl_review=sp.find(\"span\", class_=\"a-size-base s-underline-text\").text\n",
    "no_ppl_review"
   ]
  },
  {
   "cell_type": "code",
   "execution_count": null,
   "id": "d88d8829",
   "metadata": {},
   "outputs": [],
   "source": [
    "price=sp.find(\"span\", class_=\"a-price-whole\").text + sp.find(\"span\", class_=\"a-price-fraction\").text\n",
    "price"
   ]
  },
  {
   "cell_type": "code",
   "execution_count": null,
   "id": "a5eb078d",
   "metadata": {},
   "outputs": [],
   "source": [
    "old_price=sp.find(\"span\", class_=\"a-offscreen\").text\n",
    "old_price"
   ]
  },
  {
   "cell_type": "code",
   "execution_count": null,
   "id": "b0f0f21f",
   "metadata": {},
   "outputs": [],
   "source": [
    "coupon=sp.find(\"div\", class_=\"a-row a-size-small a-color-secondary\").text\n",
    "coupon"
   ]
  },
  {
   "cell_type": "code",
   "execution_count": null,
   "id": "4bc8fab1",
   "metadata": {},
   "outputs": [],
   "source": [
    "delivery=sp.find(\"div\", class_=\"a-row a-size-base a-color-secondary s-align-children-center\").text\n",
    "delivery"
   ]
  },
  {
   "cell_type": "code",
   "execution_count": null,
   "id": "d256db9a",
   "metadata": {},
   "outputs": [],
   "source": [
    "shipping_options=sp.find(\"span\", class_=\"a-size-small a-color-base\").text\n",
    "shipping_options"
   ]
  },
  {
   "cell_type": "code",
   "execution_count": null,
   "id": "d0d2782b",
   "metadata": {},
   "outputs": [],
   "source": [
    "all_product=sp.findAll(\"div\", class_=\"a-section a-spacing-small puis-padding-left-small puis-padding-right-small\")\n",
    "all_product"
   ]
  },
  {
   "cell_type": "code",
   "execution_count": null,
   "id": "a5658b5f",
   "metadata": {},
   "outputs": [],
   "source": [
    "dic = {\"name\":[],\n",
    "      \"price\":[],\n",
    "      \"old_price\":[],\n",
    "     \n",
    "      \"review\":[],\n",
    "      \"no_ppl_review\":[],\n",
    "      \"delivery\":[],\n",
    "       \"coupon\":[]}\n",
    "dic[\"name\"].append(name)\n",
    "dic[\"price\"].append(price)\n",
    "dic[\"old_price\"].append(old_price)\n",
    "dic[\"coupon\"].append(coupon)\n",
    "dic[\"review\"].append(review)\n",
    "dic[\"no_ppl_review\"].append(no_ppl_review)\n",
    "dic[\"delivery\"].append(delivery)\n",
    "amazon=pd.DataFrame(dic, index=[0])\n",
    "amazon"
   ]
  },
  {
   "cell_type": "code",
   "execution_count": null,
   "id": "e2a6e787",
   "metadata": {},
   "outputs": [],
   "source": [
    "page = 1\n",
    "dic = {\"name\":[],\n",
    "      \"price\":[],\n",
    "      \"old_price\":[],\n",
    "      \"review\":[],\n",
    "      \"no_ppl_review\":[],\n",
    "      \"delivery\":[],\n",
    "       \"coupon\":[]}\n",
    "while page<=7:\n",
    "    url= f\"https://www.amazon.com/s?k=clothes&{page}&crid=3VUXXM9I6LGFR&qid=1725554647&sprefix=clothes%2Caps%2C298&ref=sr_pg_{page}\"\n",
    "    res= driver.get(url)\n",
    "    html= driver.page_source\n",
    "    sp=bs(html_content)\n",
    "    all_product=sp.findAll(\"div\", class_=\"a-section a-spacing-small puis-padding-left-small puis-padding-right-small\")\n",
    "    for i in all_product:\n",
    "        try:\n",
    "            dic[\"name\"].append(i.find(\"a\", class_=\"a-link-normal s-underline-text s-underline-link-text s-link-style a-text-normal\").text)\n",
    "        except:\n",
    "            dic[\"name\"].append(np.nan)\n",
    "        try:\n",
    "            dic[\"price\"].append(i.find(\"span\", class_=\"a-price-whole\").text)+(i.find(\"span\", class_=\"a-price-fraction\").text)\n",
    "        except:\n",
    "            dic[\"price\"].append(np.nan)\n",
    "        try:\n",
    "            dic[\"old_price\"].append(i.find(\"span\", class_=\"a-offscreen\").text)\n",
    "        except:\n",
    "            dic[\"old_price\"].append(np.nan)\n",
    "        try:\n",
    "            dic[\"review\"].append(i.find(\"span\", class_=\"a-icon-alt\").text)\n",
    "        except:\n",
    "            dic[\"review\"].append(np.nan)\n",
    "        try:\n",
    "            dic[\"no_ppl_review\"].append(i.find(\"span\", class_=\"a-size-base s-underline-text\").text)\n",
    "        except:\n",
    "            dic[\"no_ppl_review\"].append(np.nan)\n",
    "        try:\n",
    "            dic[\"delivery\"].append(i.find(\"div\", class_=\"a-row a-size-base a-color-secondary s-align-children-center\").text) \n",
    "        except:\n",
    "            dic[\"delivery\"].append(np.nan)\n",
    "        try:\n",
    "            dic[\"coupon\"].append(i.find(\"div\", class_=\"a-row a-size-small a-color-secondary\").text)\n",
    "        except:\n",
    "            dic[\"coupon\"].append(np.nan)\n",
    "page+=1\n",
    "amazon=pd.DataFrame(dic)\n",
    "amazon"
   ]
  },
  {
   "cell_type": "code",
   "execution_count": null,
   "id": "532c7006",
   "metadata": {},
   "outputs": [],
   "source": [
    "amazon"
   ]
  },
  {
   "cell_type": "code",
   "execution_count": null,
   "id": "e584beca",
   "metadata": {},
   "outputs": [],
   "source": []
  },
  {
   "cell_type": "code",
   "execution_count": null,
   "id": "c0eb1e2e",
   "metadata": {},
   "outputs": [],
   "source": [
    "url =\"https://www.konga.com/category/smartphones-7539\"\n",
    "response= requests.get(url)"
   ]
  },
  {
   "cell_type": "code",
   "execution_count": null,
   "id": "7520c527",
   "metadata": {},
   "outputs": [],
   "source": [
    "html_content=response.content"
   ]
  },
  {
   "cell_type": "code",
   "execution_count": null,
   "id": "8f8ceefb",
   "metadata": {},
   "outputs": [],
   "source": [
    "soup=bs(html_content)"
   ]
  },
  {
   "cell_type": "code",
   "execution_count": null,
   "id": "caf3523e",
   "metadata": {},
   "outputs": [],
   "source": [
    "phones=soup.find(\"div\", class_=\"a2cf5_2S5q5 cf5dc_3HhOq\") \n",
    "phones"
   ]
  },
  {
   "cell_type": "code",
   "execution_count": null,
   "id": "6d85723c",
   "metadata": {},
   "outputs": [],
   "source": [
    "name=phones.find(\"div\", class_=\"af885_1iPzH\").text\n",
    "name"
   ]
  },
  {
   "cell_type": "code",
   "execution_count": 96,
   "id": "a64d53f8",
   "metadata": {},
   "outputs": [
    {
     "ename": "AttributeError",
     "evalue": "'NoneType' object has no attribute 'text'",
     "output_type": "error",
     "traceback": [
      "\u001b[1;31m---------------------------------------------------------------------------\u001b[0m",
      "\u001b[1;31mAttributeError\u001b[0m                            Traceback (most recent call last)",
      "\u001b[1;32m~\\AppData\\Local\\Temp\\ipykernel_11704\\2541123313.py\u001b[0m in \u001b[0;36m<module>\u001b[1;34m\u001b[0m\n\u001b[1;32m----> 1\u001b[1;33m \u001b[0mold_price\u001b[0m\u001b[1;33m=\u001b[0m\u001b[0mperfume\u001b[0m\u001b[1;33m.\u001b[0m\u001b[0mfind\u001b[0m\u001b[1;33m(\u001b[0m\u001b[1;34m\"div\"\u001b[0m\u001b[1;33m,\u001b[0m \u001b[0mclass_\u001b[0m\u001b[1;33m=\u001b[0m\u001b[1;34m\"_4e81a_39Ehs\"\u001b[0m\u001b[1;33m)\u001b[0m\u001b[1;33m.\u001b[0m\u001b[0mtext\u001b[0m\u001b[1;33m\u001b[0m\u001b[1;33m\u001b[0m\u001b[0m\n\u001b[0m\u001b[0;32m      2\u001b[0m \u001b[0mold_price\u001b[0m\u001b[1;33m\u001b[0m\u001b[1;33m\u001b[0m\u001b[0m\n",
      "\u001b[1;31mAttributeError\u001b[0m: 'NoneType' object has no attribute 'text'"
     ]
    }
   ],
   "source": [
    "old_price=perfume.find(\"div\", class_=\"_4e81a_39Ehs\").text\n",
    "old_price"
   ]
  },
  {
   "cell_type": "code",
   "execution_count": 37,
   "id": "0241fb07",
   "metadata": {},
   "outputs": [
    {
     "data": {
      "text/plain": [
       "'\\n        ₦480,000.00 NGN\\n      '"
      ]
     },
     "execution_count": 37,
     "metadata": {},
     "output_type": "execute_result"
    }
   ],
   "source": [
    "price=perfume.find(\"span\", class_=\"price-item price-item--regular\").text\n",
    "price"
   ]
  },
  {
   "cell_type": "code",
   "execution_count": 97,
   "id": "9b79540e",
   "metadata": {},
   "outputs": [
    {
     "data": {
      "text/plain": [
       "'Xerjoff Erba Pura EDP'"
      ]
     },
     "execution_count": 97,
     "metadata": {},
     "output_type": "execute_result"
    }
   ],
   "source": [
    "name=perfume.find(\"a\", class_=\"product-item__title text--strong link\").text\n",
    "name"
   ]
  },
  {
   "cell_type": "code",
   "execution_count": null,
   "id": "c2f11149",
   "metadata": {},
   "outputs": [],
   "source": []
  }
 ],
 "metadata": {
  "kernelspec": {
   "display_name": "Python 3 (ipykernel)",
   "language": "python",
   "name": "python3"
  },
  "language_info": {
   "codemirror_mode": {
    "name": "ipython",
    "version": 3
   },
   "file_extension": ".py",
   "mimetype": "text/x-python",
   "name": "python",
   "nbconvert_exporter": "python",
   "pygments_lexer": "ipython3",
   "version": "3.9.13"
  }
 },
 "nbformat": 4,
 "nbformat_minor": 5
}
